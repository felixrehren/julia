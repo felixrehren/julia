{
 "cells": [
  {
   "cell_type": "code",
   "execution_count": 1,
   "metadata": {
    "collapsed": false
   },
   "outputs": [],
   "source": [
    "using BenchmarkTools"
   ]
  },
  {
   "cell_type": "code",
   "execution_count": 2,
   "metadata": {
    "collapsed": false
   },
   "outputs": [
    {
     "data": {
      "text/plain": [
       "_sqrtm (generic function with 2 methods)"
      ]
     },
     "execution_count": 2,
     "metadata": {},
     "output_type": "execute_result"
    }
   ],
   "source": [
    "import Base.LinAlg.sylvester\n",
    "\n",
    "sylvester(a::Union{Real,Complex},b::Union{Real,Complex},c::Union{Real,Complex}) = -c / (a + b)\n",
    "\n",
    "function _sqrtm(A::UpperTriangular)\n",
    "    realmatrix = false\n",
    "    if isreal(A)\n",
    "        realmatrix = true\n",
    "        for i = 1:Base.LinAlg.checksquare(A)\n",
    "            if real(A[i,i]) < 0\n",
    "                realmatrix = false\n",
    "                break\n",
    "            end\n",
    "        end\n",
    "    end\n",
    "    _sqrtm(A,Val{realmatrix})\n",
    "end\n",
    "function _sqrtm{T,realmatrix}(A::UpperTriangular{T},::Type{Val{realmatrix}})\n",
    "    B = A.data\n",
    "    n = Base.LinAlg.checksquare(B)\n",
    "    t = realmatrix ? typeof(sqrt(zero(T))) : typeof(sqrt(complex(zero(T))))\n",
    "    R = zeros(t, n, n)\n",
    "    tt = typeof(zero(t)*zero(t))\n",
    "    @inbounds for j = 1:n\n",
    "        R[j,j] = realmatrix ? sqrt(B[j,j]) : sqrt(complex(B[j,j]))\n",
    "        for i = j-1:-1:1\n",
    "            r::tt = B[i,j]\n",
    "            @simd for k = i+1:j-1\n",
    "                r -= R[i,k]*R[k,j]\n",
    "            end\n",
    "            r==0 || (R[i,j] = sylvester(R[i,i],R[j,j],-r))\n",
    "        end\n",
    "    end\n",
    "    return UpperTriangular(R)\n",
    "end"
   ]
  },
  {
   "cell_type": "code",
   "execution_count": 3,
   "metadata": {
    "collapsed": false
   },
   "outputs": [],
   "source": [
    "A = randn(127,127)\n",
    "A = UpperTriangular(schurfact(A'*A)[:T]);"
   ]
  },
  {
   "cell_type": "code",
   "execution_count": 4,
   "metadata": {
    "collapsed": false
   },
   "outputs": [
    {
     "data": {
      "text/plain": [
       "BenchmarkTools.Trial: \n",
       "  memory estimate:  21.08 mb\n",
       "  allocs estimate:  1373642\n",
       "  --------------\n",
       "  minimum time:     22.486 ms (0.00% GC)\n",
       "  median time:      23.981 ms (5.33% GC)\n",
       "  mean time:        24.644 ms (5.04% GC)\n",
       "  maximum time:     30.715 ms (0.00% GC)\n",
       "  --------------\n",
       "  samples:          203\n",
       "  evals/sample:     1\n",
       "  time tolerance:   5.00%\n",
       "  memory tolerance: 1.00%"
      ]
     },
     "execution_count": 4,
     "metadata": {},
     "output_type": "execute_result"
    }
   ],
   "source": [
    "@benchmark sqrtm(A)"
   ]
  },
  {
   "cell_type": "code",
   "execution_count": 5,
   "metadata": {
    "collapsed": false
   },
   "outputs": [
    {
     "data": {
      "text/plain": [
       "BenchmarkTools.Trial: \n",
       "  memory estimate:  126.16 kb\n",
       "  allocs estimate:  3\n",
       "  --------------\n",
       "  minimum time:     684.498 μs (0.00% GC)\n",
       "  median time:      704.194 μs (0.00% GC)\n",
       "  mean time:        723.343 μs (0.62% GC)\n",
       "  maximum time:     1.860 ms (49.43% GC)\n",
       "  --------------\n",
       "  samples:          6889\n",
       "  evals/sample:     1\n",
       "  time tolerance:   5.00%\n",
       "  memory tolerance: 1.00%"
      ]
     },
     "execution_count": 5,
     "metadata": {},
     "output_type": "execute_result"
    }
   ],
   "source": [
    "@benchmark _sqrtm(A)"
   ]
  }
 ],
 "metadata": {
  "kernelspec": {
   "display_name": "Julia 0.5.0",
   "language": "julia",
   "name": "julia-0.5"
  },
  "language_info": {
   "file_extension": ".jl",
   "mimetype": "application/julia",
   "name": "julia",
   "version": "0.5.0"
  }
 },
 "nbformat": 4,
 "nbformat_minor": 1
}
